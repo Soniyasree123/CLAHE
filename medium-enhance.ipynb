{
 "cells": [
  {
   "cell_type": "code",
   "execution_count": 9,
   "metadata": {},
   "outputs": [
    {
     "name": "stdout",
     "output_type": "stream",
     "text": [
      "Requirement already satisfied: pillow in c:\\users\\sonys\\anaconda3\\lib\\site-packages (9.0.1)\n",
      "Note: you may need to restart the kernel to use updated packages.\n"
     ]
    }
   ],
   "source": [
    "pip install pillow"
   ]
  },
  {
   "cell_type": "code",
   "execution_count": 10,
   "metadata": {},
   "outputs": [],
   "source": [
    "from PIL import Image, ImageEnhance"
   ]
  },
  {
   "cell_type": "code",
   "execution_count": 11,
   "metadata": {},
   "outputs": [],
   "source": [
    "import cv2\n",
    "import numpy as np\n",
    "import matplotlib.pyplot as plt\n",
    "\n",
    "\n"
   ]
  },
  {
   "cell_type": "code",
   "execution_count": 12,
   "metadata": {},
   "outputs": [],
   "source": [
    "def adjust_brightness_contrast(image, alpha, beta):\n",
    "    return cv2.addWeighted(image, alpha, image, 0, beta)\n",
    "\n",
    "def sharpen_image(image):\n",
    "    kernel = np.array([[-1, -1, -1],\n",
    "                       [-1, 9, -1],\n",
    "                       [-1, -1, -1]])\n",
    "    return cv2.filter2D(image, -1, kernel)\n",
    "\n",
    "def adjust_brightness(image, factor):\n",
    "    enhancer = ImageEnhance.Brightness(image)\n",
    "    return enhancer.enhance(factor)\n",
    "\n",
    "def adjust_contrast(image, factor):\n",
    "    enhancer = ImageEnhance.Contrast(image)\n",
    "    return enhancer.enhance(factor)\n",
    "\n",
    "\n"
   ]
  },
  {
   "cell_type": "code",
   "execution_count": 13,
   "metadata": {},
   "outputs": [
    {
     "ename": "AttributeError",
     "evalue": "'numpy.ndarray' object has no attribute 'mode'",
     "output_type": "error",
     "traceback": [
      "\u001b[1;31m---------------------------------------------------------------------------\u001b[0m",
      "\u001b[1;31mAttributeError\u001b[0m                            Traceback (most recent call last)",
      "\u001b[1;32mUntitled-1.ipynb Cell 5\u001b[0m line \u001b[0;36m<cell line: 8>\u001b[1;34m()\u001b[0m\n\u001b[0;32m      <a href='vscode-notebook-cell:Untitled-1.ipynb?jupyter-notebook#W3sdW50aXRsZWQ%3D?line=4'>5</a>\u001b[0m sharpened_image \u001b[39m=\u001b[39m sharpen_image(enhanced_image)\n\u001b[0;32m      <a href='vscode-notebook-cell:Untitled-1.ipynb?jupyter-notebook#W3sdW50aXRsZWQ%3D?line=5'>6</a>\u001b[0m original_and_sharpened_image \u001b[39m=\u001b[39m np\u001b[39m.\u001b[39mhstack((enhanced_image, sharpened_image))\n\u001b[1;32m----> <a href='vscode-notebook-cell:Untitled-1.ipynb?jupyter-notebook#W3sdW50aXRsZWQ%3D?line=7'>8</a>\u001b[0m enhanced_image \u001b[39m=\u001b[39m adjust_brightness(enhanced_image, \u001b[39m1.5\u001b[39;49m)\n\u001b[0;32m      <a href='vscode-notebook-cell:Untitled-1.ipynb?jupyter-notebook#W3sdW50aXRsZWQ%3D?line=8'>9</a>\u001b[0m original_and_enhanced_image \u001b[39m=\u001b[39m np\u001b[39m.\u001b[39mhstack((enhanced_image, enhanced_image))\n\u001b[0;32m     <a href='vscode-notebook-cell:Untitled-1.ipynb?jupyter-notebook#W3sdW50aXRsZWQ%3D?line=10'>11</a>\u001b[0m enhanced_contrast \u001b[39m=\u001b[39m adjust_contrast(enhanced_image, \u001b[39m1.5\u001b[39m)\n",
      "\u001b[1;32mUntitled-1.ipynb Cell 5\u001b[0m line \u001b[0;36madjust_brightness\u001b[1;34m(image, factor)\u001b[0m\n\u001b[0;32m     <a href='vscode-notebook-cell:Untitled-1.ipynb?jupyter-notebook#W3sdW50aXRsZWQ%3D?line=9'>10</a>\u001b[0m \u001b[39mdef\u001b[39;00m \u001b[39madjust_brightness\u001b[39m(image, factor):\n\u001b[1;32m---> <a href='vscode-notebook-cell:Untitled-1.ipynb?jupyter-notebook#W3sdW50aXRsZWQ%3D?line=10'>11</a>\u001b[0m     enhancer \u001b[39m=\u001b[39m ImageEnhance\u001b[39m.\u001b[39;49mBrightness(image)\n\u001b[0;32m     <a href='vscode-notebook-cell:Untitled-1.ipynb?jupyter-notebook#W3sdW50aXRsZWQ%3D?line=11'>12</a>\u001b[0m     \u001b[39mreturn\u001b[39;00m enhancer\u001b[39m.\u001b[39menhance(factor)\n",
      "File \u001b[1;32mc:\\Users\\sonys\\anaconda3\\lib\\site-packages\\PIL\\ImageEnhance.py:84\u001b[0m, in \u001b[0;36mBrightness.__init__\u001b[1;34m(self, image)\u001b[0m\n\u001b[0;32m     82\u001b[0m \u001b[39mdef\u001b[39;00m \u001b[39m__init__\u001b[39m(\u001b[39mself\u001b[39m, image):\n\u001b[0;32m     83\u001b[0m     \u001b[39mself\u001b[39m\u001b[39m.\u001b[39mimage \u001b[39m=\u001b[39m image\n\u001b[1;32m---> 84\u001b[0m     \u001b[39mself\u001b[39m\u001b[39m.\u001b[39mdegenerate \u001b[39m=\u001b[39m Image\u001b[39m.\u001b[39mnew(image\u001b[39m.\u001b[39;49mmode, image\u001b[39m.\u001b[39msize, \u001b[39m0\u001b[39m)\n\u001b[0;32m     86\u001b[0m     \u001b[39mif\u001b[39;00m \u001b[39m\"\u001b[39m\u001b[39mA\u001b[39m\u001b[39m\"\u001b[39m \u001b[39min\u001b[39;00m image\u001b[39m.\u001b[39mgetbands():\n\u001b[0;32m     87\u001b[0m         \u001b[39mself\u001b[39m\u001b[39m.\u001b[39mdegenerate\u001b[39m.\u001b[39mputalpha(image\u001b[39m.\u001b[39mgetchannel(\u001b[39m\"\u001b[39m\u001b[39mA\u001b[39m\u001b[39m\"\u001b[39m))\n",
      "\u001b[1;31mAttributeError\u001b[0m: 'numpy.ndarray' object has no attribute 'mode'"
     ]
    }
   ],
   "source": [
    "\n",
    "image = cv2.imread(r\"C:\\Users\\sonys\\Downloads\\13 (1).jpeg\")\n",
    "enhanced_image = adjust_brightness_contrast(image, 1.2, 30)\n",
    "original_and_enhanced_image = np.hstack((image, enhanced_image))\n",
    "\n",
    "sharpened_image = sharpen_image(enhanced_image)\n",
    "original_and_sharpened_image = np.hstack((enhanced_image, sharpened_image))\n",
    "\n",
    "enhanced_image = adjust_brightness(enhanced_image, 1.5)\n",
    "original_and_enhanced_image = np.hstack((enhanced_image, enhanced_image))\n",
    "\n",
    "enhanced_contrast = adjust_contrast(enhanced_image, 1.5)\n",
    "original_and_enhanced_contrast = np.hstack((enhanced_image, enhanced_contrast))"
   ]
  },
  {
   "cell_type": "code",
   "execution_count": null,
   "metadata": {},
   "outputs": [],
   "source": [
    "\n",
    "\n",
    "plt.figure(figsize = [30, 30])\n",
    "plt.axis('off')\n",
    "plt.imshow(original_and_enhanced_contrast, cmap = 'gray')"
   ]
  }
 ],
 "metadata": {
  "kernelspec": {
   "display_name": "base",
   "language": "python",
   "name": "python3"
  },
  "language_info": {
   "codemirror_mode": {
    "name": "ipython",
    "version": 3
   },
   "file_extension": ".py",
   "mimetype": "text/x-python",
   "name": "python",
   "nbconvert_exporter": "python",
   "pygments_lexer": "ipython3",
   "version": "3.9.12"
  }
 },
 "nbformat": 4,
 "nbformat_minor": 2
}
