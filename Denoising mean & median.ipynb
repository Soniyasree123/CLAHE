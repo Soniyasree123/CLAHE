{
 "cells": [
  {
   "cell_type": "code",
   "execution_count": 2,
   "metadata": {},
   "outputs": [
    {
     "ename": "SyntaxError",
     "evalue": "(unicode error) 'unicodeescape' codec can't decode bytes in position 7-8: malformed \\N character escape (2442433989.py, line 6)",
     "output_type": "error",
     "traceback": [
      "\u001b[1;36m  Input \u001b[1;32mIn [2]\u001b[1;36m\u001b[0m\n\u001b[1;33m    img = cv2.imread(\"D:\\IITH\\Necun\\Opencv\\INPUTS\\c-sc.png\", 0)\u001b[0m\n\u001b[1;37m                                                           ^\u001b[0m\n\u001b[1;31mSyntaxError\u001b[0m\u001b[1;31m:\u001b[0m (unicode error) 'unicodeescape' codec can't decode bytes in position 7-8: malformed \\N character escape\n"
     ]
    }
   ],
   "source": [
    "import cv2\n",
    "import numpy as np\n",
    "from skimage import img_as_ubyte\n",
    "\n",
    "## original image\n",
    "img = cv2.imread(\"D:\\IITH\\Necun\\Opencv\\INPUTS\\c-sc.png\", 0)\n",
    "img = img/img.max() # normalize the pixel value (0~1)\n",
    "\n",
    "\n",
    "# Salt and Pepper Noise\n",
    "x,y = img.shape\n",
    "g = np.zeros((x,y), dtype=np.float32)\n",
    "pepper = 0.1\n",
    "salt = 0.95  \n",
    "for i in range(x):\n",
    "    for j in range(y):\n",
    "        rdn = np.random.random()\n",
    "        if rdn < pepper:\n",
    "            g[i][j] = 0\n",
    "        elif rdn > salt:\n",
    "            g[i][j] = 1\n",
    "        else:\n",
    "            g[i][j] = img[i][j]\n",
    "\n",
    "img_noise = g\n",
    "\n",
    "# preview the images\n",
    "cv2.imshow('Original Image', img)\n",
    "cv2.imshow('Image + Noise', img_noise)\n",
    "\n",
    "cv2.waitKey(0)\n",
    "cv2.destroyAllWindows()\n",
    "\n",
    "## denoise image\n",
    "# mean filter (average)\n",
    "m = 5\n",
    "n = 5\n",
    "denoise_mean = cv2.blur(img_noise, (m,n))\n",
    "\n",
    "# median filter\n",
    "img_noise_median = np.clip(img_noise, -1, 1) #pixel value range\n",
    "img_noise_median = img_as_ubyte(img_noise_median) #convert to uint8\n",
    "denoise_median = cv2.medianBlur(img_noise_median, 5)\n",
    "\n",
    "\n",
    "cv2.imshow('Original Image', img)\n",
    "cv2.imshow('Image + Noise', img_noise)\n",
    "cv2.imshow('Denoise Mean', denoise_mean)\n",
    "cv2.imshow('Denoise Median', denoise_median)\n",
    "\n",
    "cv2.waitKey(0)\n",
    "cv2.destroyAllWindows()\n",
    "\n"
   ]
  }
 ],
 "metadata": {
  "kernelspec": {
   "display_name": "base",
   "language": "python",
   "name": "python3"
  },
  "language_info": {
   "codemirror_mode": {
    "name": "ipython",
    "version": 3
   },
   "file_extension": ".py",
   "mimetype": "text/x-python",
   "name": "python",
   "nbconvert_exporter": "python",
   "pygments_lexer": "ipython3",
   "version": "3.9.12"
  }
 },
 "nbformat": 4,
 "nbformat_minor": 2
}
