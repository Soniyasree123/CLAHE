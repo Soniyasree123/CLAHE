{
 "cells": [
  {
   "cell_type": "code",
   "execution_count": 2,
   "metadata": {},
   "outputs": [],
   "source": [
    "import cv2\n",
    "import numpy as np\n",
    "from matplotlib import pyplot as plt"
   ]
  },
  {
   "cell_type": "code",
   "execution_count": 3,
   "metadata": {},
   "outputs": [],
   "source": [
    "def histogram_equalization(image):\n",
    "    gray_image = cv2.cvtColor(image, cv2.COLOR_BGR2GRAY)\n",
    "    equalized_image = cv2.equalizeHist(gray_image)\n",
    "    return equalized_image\n",
    "\n",
    "def contrast_stretching(image):\n",
    "    image_min = np.min(image)\n",
    "    image_max = np.max(image)\n",
    "    return (image - image_min) * (255 / (image_max - image_min))\n",
    "\n",
    "def smooth_image(image, method='gaussian', kernel_size=(5, 5), sigma_x=0):\n",
    "    if method == 'gaussian':\n",
    "        return cv2.GaussianBlur(image, kernel_size, sigma_x)\n",
    "    elif method == 'median':\n",
    "        return cv2.medianBlur(image, kernel_size[0])\n",
    "    elif method == 'bilateral':\n",
    "        return cv2.bilateralFilter(image, kernel_size[0], sigma_x, sigma_x)\n",
    "\n",
    "def median_filter(image, kernel_size=5):\n",
    "    return cv2.medianBlur(image, kernel_size)\n",
    "\n",
    "def inpaint_image(image, mask, method='telea', radius=3):\n",
    "    if method == 'navier_stokes':\n",
    "        return cv2.inpaint(image, mask, radius, cv2.INPAINT_NS)\n",
    "    else:\n",
    "        return cv2.inpaint(image, mask, radius, cv2.INPAINT_TELEA)"
   ]
  },
  {
   "cell_type": "code",
   "execution_count": 5,
   "metadata": {},
   "outputs": [],
   "source": [
    "image = cv2.imread(\"D:\\IITH/Necun\\Opencv\\INPUTS\\c-sc.png\",0)\n",
    "\n",
    "equalized_image = histogram_equalization(image)\n",
    "cv2.imshow('Equalized Image', equalized_image)\n",
    "\n",
    "stretched_image = contrast_stretching(equalized_image)\n",
    "cv2.imshow('Contrast Stretched Image', stretched_image)\n",
    "\n",
    "smoothed_image = smooth_image(stretched_image, method='gaussian')\n",
    "cv2.imshow('Smoothed Image', smoothed_image)\n",
    "\n",
    "denoised_image = median_filter(smoothed_image,5)\n",
    "cv2.imshow('Denoised Image', denoised_image)\n",
    "\n",
    "mask = cv2.imread(r\"C:\\Users\\sonys\\Downloads\\13 (1).jpeg\", 0)\n",
    "restored_image = inpaint_image(image, mask)\n",
    "cv2.imshow('Restored Image', restored_image)\n",
    "\n",
    "\n",
    "cv2.waitKey(0)\n",
    "cv2.destroyAllWindows()"
   ]
  },
  {
   "cell_type": "code",
   "execution_count": 6,
   "metadata": {},
   "outputs": [
    {
     "ename": "",
     "evalue": "",
     "output_type": "error",
     "traceback": [
      "\u001b[1;31mThe Kernel crashed while executing code in the the current cell or a previous cell. Please review the code in the cell(s) to identify a possible cause of the failure. Click <a href='https://aka.ms/vscodeJupyterKernelCrash'>here</a> for more info. View Jupyter <a href='command:jupyter.viewOutput'>log</a> for further details."
     ]
    }
   ],
   "source": [
    "stretched_image = contrast_stretching(threshold_array)\n",
    "cv2.imshow('Contrast Stretched Image', stretched_image)\n"
   ]
  },
  {
   "cell_type": "code",
   "execution_count": null,
   "metadata": {},
   "outputs": [],
   "source": [
    "\n",
    "smoothed_image = smooth_image(stretched_image, method='gaussian')\n",
    "cv2.imshow('Smoothed Image', smoothed_image)\n",
    "\n",
    "denoised_image = median_filter(smoothed_image,5)\n",
    "cv2.imshow('Denoised Image', denoised_image)\n",
    "\n",
    "mask = cv2.imread(r\"C:\\Users\\sonys\\Downloads\\13 (1).jpeg\", 0)\n",
    "restored_image = inpaint_image(image, mask)\n",
    "cv2.imshow('Restored Image', restored_image)\n",
    "\n",
    "\n",
    "cv2.waitKey(0)\n",
    "cv2.destroyAllWindows()"
   ]
  }
 ],
 "metadata": {
  "kernelspec": {
   "display_name": "base",
   "language": "python",
   "name": "python3"
  },
  "language_info": {
   "codemirror_mode": {
    "name": "ipython",
    "version": 3
   },
   "file_extension": ".py",
   "mimetype": "text/x-python",
   "name": "python",
   "nbconvert_exporter": "python",
   "pygments_lexer": "ipython3",
   "version": "3.9.12"
  }
 },
 "nbformat": 4,
 "nbformat_minor": 2
}
