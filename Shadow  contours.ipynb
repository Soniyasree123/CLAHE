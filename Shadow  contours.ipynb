{
 "cells": [
  {
   "cell_type": "code",
   "execution_count": 5,
   "metadata": {},
   "outputs": [],
   "source": [
    "import cv2\n",
    "import numpy as np\n",
    "\n",
    "gray = cv2.imread(\"D:\\IITH/Necun\\Opencv\\INPUTS\\c-sc.png\",0)\n",
    "\n",
    "\n",
    "blurred = cv2.GaussianBlur(gray, (21, 21), 0)\n",
    "\n",
    "# Calculate the difference between the original and blurred images\n",
    "diff = cv2.absdiff(gray, blurred)\n",
    "\n",
    "# Threshold the difference image to create a binary mask\n",
    "threshold = 60  \n",
    "_, mask = cv2.threshold(diff, threshold, 255, cv2.THRESH_BINARY)\n",
    "\n",
    "# Apply morphological operations to clean up the mask\n",
    "kernel = cv2.getStructuringElement(cv2.MORPH_RECT, (5, 5))\n",
    "mask = cv2.morphologyEx(mask, cv2.MORPH_OPEN, kernel)\n",
    "\n",
    "# Find contours in the mask\n",
    "contours, _ = cv2.findContours(mask, cv2.RETR_EXTERNAL, cv2.CHAIN_APPROX_SIMPLE)\n",
    "\n",
    "# Denoise shadow regions using mean filter and median filter\n",
    "for contour in contours:\n",
    "    x, y, w, h = cv2.boundingRect(contour)\n",
    "    shadow_region = gray[y:y+h, x:x+w]\n",
    "\n",
    "    # Apply mean filter\n",
    "    mean_denoised = cv2.blur(shadow_region, (5, 5))\n",
    "\n",
    "    # Apply median filter\n",
    "    median_denoised = cv2.medianBlur(shadow_region, 5)\n",
    "\n",
    "    # Replace the shadow region with the denoised version\n",
    "    gray[y:y+h, x:x+w] = median_denoised  \n",
    "\n",
    "\n",
    "cv2.imshow('Shadow denoised Image', gray)\n",
    "cv2.waitKey(0)\n",
    "cv2.destroyAllWindows()\n",
    "\n"
   ]
  }
 ],
 "metadata": {
  "kernelspec": {
   "display_name": "base",
   "language": "python",
   "name": "python3"
  },
  "language_info": {
   "codemirror_mode": {
    "name": "ipython",
    "version": 3
   },
   "file_extension": ".py",
   "mimetype": "text/x-python",
   "name": "python",
   "nbconvert_exporter": "python",
   "pygments_lexer": "ipython3",
   "version": "3.9.12"
  }
 },
 "nbformat": 4,
 "nbformat_minor": 2
}
