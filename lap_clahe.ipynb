{
 "cells": [
  {
   "cell_type": "code",
   "execution_count": 1,
   "metadata": {},
   "outputs": [],
   "source": [
    "import cv2\n",
    "import matplotlib.pyplot as plt\n",
    "import numpy as np"
   ]
  },
  {
   "cell_type": "code",
   "execution_count": 3,
   "metadata": {},
   "outputs": [],
   "source": [
    "img = cv2.imread(\"D:\\IITH/Necun\\Opencv\\INPUTS\\c-sc.png\",0)\n",
    "kernel = np.array([[0, 1, 0],[1, -4, 1],[0, 1, 0]])\n",
    "LaplacianImage = cv2.filter2D(src=img ,ddepth=-1,kernel=kernel)\n",
    "c = -1\n",
    "g = img + c*LaplacianImage\n",
    "gClip = np.clip(g, 0, 255)\n",
    "\n",
    "clahe=cv2.createCLAHE(clipLimit=2.0,tileGridSize=(5,5))\n",
    "clahe_img=clahe.apply(img)\n",
    "threshold_val,threshold_array=cv2.threshold(clahe_img,0,255,cv2.THRESH_BINARY+cv2.THRESH_OTSU)\n"
   ]
  },
  {
   "cell_type": "code",
   "execution_count": 8,
   "metadata": {},
   "outputs": [],
   "source": [
    "def contrast_stretching(image):\n",
    "    image_min = np.min(image)\n",
    "    image_max = np.max(image)\n",
    "    return (image - image_min) * (255 / (image_max - image_min))\n",
    "\n",
    "def smooth_image(image, method='gaussian', kernel_size=(5, 5), sigma_x=0):\n",
    "    if method == 'gaussian':\n",
    "        return cv2.GaussianBlur(image, kernel_size, sigma_x)\n",
    "    elif method == 'median':\n",
    "        return cv2.medianBlur(image, kernel_size[0])\n",
    "    elif method == 'bilateral':\n",
    "        return cv2.bilateralFilter(image, kernel_size[0], sigma_x, sigma_x)\n",
    "\n",
    "def median_filter(image, kernel_size=5):\n",
    "    return cv2.medianBlur(image, kernel_size)\n",
    "\n",
    "def inpaint_image(image, mask, method='telea', radius=3):\n",
    "    if method == 'navier_stokes':\n",
    "        return cv2.inpaint(image, mask, radius, cv2.INPAINT_NS)\n",
    "    else:\n",
    "        return cv2.inpaint(image, mask, radius, cv2.INPAINT_TELEA)"
   ]
  },
  {
   "cell_type": "code",
   "execution_count": 9,
   "metadata": {},
   "outputs": [
    {
     "ename": "",
     "evalue": "",
     "output_type": "error",
     "traceback": [
      "\u001b[1;31mThe Kernel crashed while executing code in the the current cell or a previous cell. Please review the code in the cell(s) to identify a possible cause of the failure. Click <a href='https://aka.ms/vscodeJupyterKernelCrash'>here</a> for more info. View Jupyter <a href='command:jupyter.viewOutput'>log</a> for further details."
     ]
    }
   ],
   "source": [
    "stretched_image = contrast_stretching(threshold_array)\n",
    "cv2.imshow('Contrast Stretched Image', stretched_image)\n"
   ]
  },
  {
   "cell_type": "code",
   "execution_count": null,
   "metadata": {},
   "outputs": [],
   "source": [
    "\n",
    "smoothed_image = smooth_image(stretched_image, method='gaussian')\n",
    "cv2.imshow('Smoothed Image', smoothed_image)\n",
    "\n",
    "\n",
    "\n"
   ]
  },
  {
   "cell_type": "code",
   "execution_count": null,
   "metadata": {},
   "outputs": [],
   "source": [
    "denoised_image = median_filter(smoothed_image,5)\n",
    "cv2.imshow('Denoised Image', denoised_image)\n",
    "mask = cv2.imread(\"D:\\IITH/Necun\\Opencv\\INPUTS\\c-sc.png\", 0)\n",
    "restored_image = inpaint_image(image, mask)\n",
    "cv2.imshow('Restored Image', restored_image)"
   ]
  },
  {
   "cell_type": "code",
   "execution_count": 6,
   "metadata": {},
   "outputs": [],
   "source": [
    "cv2.imshow('original_img',img)\n",
    "cv2.imshow('enhanced_img',threshold_array)\n",
    "cv2.waitKey(0)\n",
    "cv2.destroyAllWindows()\n"
   ]
  },
  {
   "cell_type": "code",
   "execution_count": null,
   "metadata": {},
   "outputs": [],
   "source": []
  }
 ],
 "metadata": {
  "kernelspec": {
   "display_name": "base",
   "language": "python",
   "name": "python3"
  },
  "language_info": {
   "codemirror_mode": {
    "name": "ipython",
    "version": 3
   },
   "file_extension": ".py",
   "mimetype": "text/x-python",
   "name": "python",
   "nbconvert_exporter": "python",
   "pygments_lexer": "ipython3",
   "version": "3.9.12"
  }
 },
 "nbformat": 4,
 "nbformat_minor": 2
}
